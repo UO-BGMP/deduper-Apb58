{
 "cells": [
  {
   "cell_type": "code",
   "execution_count": 5,
   "metadata": {
    "scrolled": true
   },
   "outputs": [],
   "source": [
    "#!/Users/Adrian/miniconda3/bin/python3\n",
    "# Adrian Bubie\n",
    "#12/14/17\n",
    "\n",
    "## PCR_Deduper: \n",
    "## Argparse arguments - sam file (abs path), paired-end flag (boolean), UMI file (abs path), and help\n",
    "import argparse as ap\n",
    "import textwrap\n",
    "\n",
    "def get_arguments():\n",
    "    parser = ap.ArgumentParser(prog='./PCR_Deduper.py', formatter_class=ap.RawDescriptionHelpFormatter, description=textwrap.dedent('''\\\n",
    "    PCR Duplicate Remover\n",
    "    ---------------------\n",
    "    Removes duplicate reads from given position sorted SAM file \n",
    "    that are product of PCR duplication.\n",
    "    \n",
    "    Note that the SAM file input is assumed to be pre-sorted by position\n",
    "    '''))\n",
    "    parser.add_argument(\"-f\",\"--file\", help=\"Sorted SAM file to be processed. Must include absolute path the file. <str>\", required=True, type=str)\n",
    "    parser.add_argument(\"-p\",\"--paired\", help=\"Indication if SAM data is paired-ended <boolean> (def='False')\", required=False, type=bool, default='False')\n",
    "    parser.add_argument(\"-u\",\"--umi\", help=\"Optional file to define UMI sequences. If not specified, SAM is assumed to use randomers. Must include absolute path to file <str>\", required=False, type=str)\n",
    "    parser.add_argument(\"-s\",\"--summary\", help=\"Set to 'True' for additional summary file output <boolean> (def='False')\", required=False, type=bool, default='False')\n",
    "    return parser.parse_args()\n",
    "\n",
    "args = get_arguments()"
   ]
  },
  {
   "cell_type": "code",
   "execution_count": null,
   "metadata": {
    "collapsed": true
   },
   "outputs": [],
   "source": []
  }
 ],
 "metadata": {
  "kernelspec": {
   "display_name": "Python [default]",
   "language": "python",
   "name": "python3"
  },
  "language_info": {
   "codemirror_mode": {
    "name": "ipython",
    "version": 3
   },
   "file_extension": ".py",
   "mimetype": "text/x-python",
   "name": "python",
   "nbconvert_exporter": "python",
   "pygments_lexer": "ipython3",
   "version": "3.6.1"
  }
 },
 "nbformat": 4,
 "nbformat_minor": 2
}
